{
 "cells": [
  {
   "cell_type": "code",
   "execution_count": 1,
   "id": "a7a61c3b",
   "metadata": {},
   "outputs": [],
   "source": [
    "import pylab as p\n",
    "import tangos\n",
    "import numpy as np\n",
    "import matplotlib.pyplot as plt\n",
    "import pynbody\n",
    "import matplotlib as mat\n",
    "import pynbody.plot as pp\n",
    "import pickle\n",
    "import pandas as pd\n",
    "import pynbody.plot.sph as sph\n",
    "import scipy\n",
    "import operator as op"
   ]
  },
  {
   "cell_type": "code",
   "execution_count": 2,
   "id": "80ecbc40",
   "metadata": {},
   "outputs": [],
   "source": [
    "storm_sb = [1, 2, 3, 4, 5, 6, 7, 8, 10, 11, 12, 14, 16, 20, 22, 23, 24, 36, 76]\n",
    "storm_bw = [1,2,3,4,5,6,7,8,10,11,12,14,15,22,23,31,37,44,48,55,118]\n"
   ]
  },
  {
   "cell_type": "code",
   "execution_count": 3,
   "id": "6c403172",
   "metadata": {},
   "outputs": [],
   "source": [
    "SB = pynbody.load(f\"/myhome2/users/munshi/dwarf_volumes/storm.cosmo25cmb.4096g1HsbBH/storm.cosmo25cmb.4096g1HsbBH.004096\")\n",
    "h = SB.halos(dosort=True)\n",
    "#shared = np.where(np.isin(SB.dm['iord'],h[1].dm['iord']))"
   ]
  },
  {
   "cell_type": "code",
   "execution_count": 4,
   "id": "e3d9ab5c",
   "metadata": {},
   "outputs": [],
   "source": [
    "s = pynbody.load(f\"/myhome2/users/munshi/dwarf_volumes/storm.cosmo25cmb.4096g5HbwK1BH/storm.cosmo25cmb.4096g5HbwK1BH.004096/storm.cosmo25cmb.4096g5HbwK1BH.004096\")\n",
    "h_bw = s.halos()\n",
    "#share_bw = np.where(np.isin(s.dm['iord'],h_bw[1].dm['iord']))"
   ]
  },
  {
   "cell_type": "code",
   "execution_count": 60,
   "id": "992ed8a3",
   "metadata": {},
   "outputs": [
    {
     "data": {
      "text/plain": [
       "0.9100671521861513"
      ]
     },
     "execution_count": 60,
     "metadata": {},
     "output_type": "execute_result"
    }
   ],
   "source": [
    "shared = np.where(np.isin(SB.dm['iord'],h[1].dm['iord']))\n",
    "share_bw = np.where(np.isin(s.dm['iord'],h_bw[1].dm['iord']))\n",
    "match2 = np.in1d(share_bw[0], shared[0])\n",
    "num = op.countOf(match2,True)\n",
    "print(num/len(h[1].dm))\n",
    "print(num/len(h_bw[1].dm))"
   ]
  },
  {
   "cell_type": "code",
   "execution_count": 61,
   "id": "02086ecf",
   "metadata": {},
   "outputs": [
    {
     "name": "stdout",
     "output_type": "stream",
     "text": [
      "0.7699774084425575\n",
      "0.8529558192345829\n"
     ]
    }
   ],
   "source": [
    "shared = np.where(np.isin(SB.dm['iord'],h[2].dm['iord']))\n",
    "share_bw = np.where(np.isin(s.dm['iord'],h_bw[2].dm['iord']))\n",
    "match2 = np.in1d(share_bw[0], shared[0])\n",
    "num = op.countOf(match2,True)\n",
    "print(num/len(h[2].dm))\n",
    "print(num/len(h_bw[2].dm))"
   ]
  },
  {
   "cell_type": "code",
   "execution_count": 62,
   "id": "356f755f",
   "metadata": {},
   "outputs": [
    {
     "name": "stdout",
     "output_type": "stream",
     "text": [
      "0.8605329000518491\n",
      "0.8939295487831572\n"
     ]
    }
   ],
   "source": [
    "shared = np.where(np.isin(SB.dm['iord'],h[3].dm['iord']))\n",
    "share_bw = np.where(np.isin(s.dm['iord'],h_bw[3].dm['iord']))\n",
    "match2 = np.in1d(share_bw[0], shared[0])\n",
    "num = op.countOf(match2,True)\n",
    "print(num/len(h[3].dm))\n",
    "print(num/len(h_bw[3].dm))"
   ]
  },
  {
   "cell_type": "code",
   "execution_count": 63,
   "id": "100e7a7b",
   "metadata": {},
   "outputs": [
    {
     "name": "stdout",
     "output_type": "stream",
     "text": [
      "0.8233222769070558\n",
      "0.8095091657398857\n"
     ]
    }
   ],
   "source": [
    "i = 4\n",
    "shared = np.where(np.isin(SB.dm['iord'],h[i].dm['iord']))\n",
    "share_bw = np.where(np.isin(s.dm['iord'],h_bw[i].dm['iord']))\n",
    "match2 = np.in1d(share_bw[0], shared[0])\n",
    "num = op.countOf(match2,True)\n",
    "print(num/len(h[i].dm))\n",
    "print(num/len(h_bw[i].dm))"
   ]
  },
  {
   "cell_type": "code",
   "execution_count": 64,
   "id": "327d052c",
   "metadata": {},
   "outputs": [
    {
     "name": "stdout",
     "output_type": "stream",
     "text": [
      "0.8900980410443746\n",
      "0.9122084816045644\n"
     ]
    }
   ],
   "source": [
    "i = 5\n",
    "shared = np.where(np.isin(SB.dm['iord'],h[i].dm['iord']))\n",
    "share_bw = np.where(np.isin(s.dm['iord'],h_bw[i].dm['iord']))\n",
    "match2 = np.in1d(share_bw[0], shared[0])\n",
    "num = op.countOf(match2,True)\n",
    "print(num/len(h[i].dm))\n",
    "print(num/len(h_bw[i].dm))"
   ]
  },
  {
   "cell_type": "code",
   "execution_count": 65,
   "id": "f964ebe8",
   "metadata": {},
   "outputs": [
    {
     "name": "stdout",
     "output_type": "stream",
     "text": [
      "0.0\n",
      "0.0\n"
     ]
    }
   ],
   "source": [
    "i = 6\n",
    "shared = np.where(np.isin(SB.dm['iord'],h[i].dm['iord']))\n",
    "share_bw = np.where(np.isin(s.dm['iord'],h_bw[i].dm['iord']))\n",
    "match2 = np.in1d(share_bw[0], shared[0])\n",
    "num = op.countOf(match2,True)\n",
    "print(num/len(h[i].dm))\n",
    "print(num/len(h_bw[i].dm))"
   ]
  },
  {
   "cell_type": "code",
   "execution_count": 66,
   "id": "1065c8ac",
   "metadata": {},
   "outputs": [
    {
     "name": "stdout",
     "output_type": "stream",
     "text": [
      "0.8792404813505578\n",
      "0.9023500718412126\n"
     ]
    }
   ],
   "source": [
    "i = 7\n",
    "shared = np.where(np.isin(SB.dm['iord'],h[i].dm['iord']))\n",
    "share_bw = np.where(np.isin(s.dm['iord'],h_bw[i].dm['iord']))\n",
    "match2 = np.in1d(share_bw[0], shared[0])\n",
    "num = op.countOf(match2,True)\n",
    "print(num/len(h[i].dm))\n",
    "print(num/len(h_bw[i].dm))"
   ]
  },
  {
   "cell_type": "code",
   "execution_count": 67,
   "id": "ed9a94bb",
   "metadata": {},
   "outputs": [
    {
     "name": "stdout",
     "output_type": "stream",
     "text": [
      "0.0\n",
      "0.0\n"
     ]
    }
   ],
   "source": [
    "i = 8\n",
    "shared = np.where(np.isin(SB.dm['iord'],h[i].dm['iord']))\n",
    "share_bw = np.where(np.isin(s.dm['iord'],h_bw[i].dm['iord']))\n",
    "match2 = np.in1d(share_bw[0], shared[0])\n",
    "num = op.countOf(match2,True)\n",
    "print(num/len(h[i].dm))\n",
    "print(num/len(h_bw[i].dm))"
   ]
  },
  {
   "cell_type": "code",
   "execution_count": 68,
   "id": "8052f9d9",
   "metadata": {},
   "outputs": [
    {
     "name": "stdout",
     "output_type": "stream",
     "text": [
      "0.8902202783527579\n",
      "0.8952631335719311\n"
     ]
    }
   ],
   "source": [
    "i = 10\n",
    "shared = np.where(np.isin(SB.dm['iord'],h[i].dm['iord']))\n",
    "share_bw = np.where(np.isin(s.dm['iord'],h_bw[i].dm['iord']))\n",
    "match2 = np.in1d(share_bw[0], shared[0])\n",
    "num = op.countOf(match2,True)\n",
    "print(num/len(h[i].dm))\n",
    "print(num/len(h_bw[i].dm))"
   ]
  },
  {
   "cell_type": "code",
   "execution_count": 69,
   "id": "4a3c0175",
   "metadata": {},
   "outputs": [
    {
     "name": "stdout",
     "output_type": "stream",
     "text": [
      "0.7481348021673767\n",
      "0.7895119075954847\n"
     ]
    }
   ],
   "source": [
    "#i = 7\n",
    "shared = np.where(np.isin(SB.dm['iord'],h[6].dm['iord']))\n",
    "share_bw = np.where(np.isin(s.dm['iord'],h_bw[8].dm['iord']))\n",
    "match2 = np.in1d(share_bw[0], shared[0])\n",
    "num = op.countOf(match2,True)\n",
    "print(num/len(h[6].dm))\n",
    "print(num/len(h_bw[8].dm))"
   ]
  },
  {
   "cell_type": "code",
   "execution_count": 70,
   "id": "5c6393c7",
   "metadata": {},
   "outputs": [
    {
     "name": "stdout",
     "output_type": "stream",
     "text": [
      "0.0001353062269858605\n",
      "0.000135097807193717\n"
     ]
    }
   ],
   "source": [
    "i = 11\n",
    "shared = np.where(np.isin(SB.dm['iord'],h[i].dm['iord']))\n",
    "share_bw = np.where(np.isin(s.dm['iord'],h_bw[i].dm['iord']))\n",
    "match2 = np.in1d(share_bw[0], shared[0])\n",
    "num = op.countOf(match2,True)\n",
    "print(num/len(h[i].dm))\n",
    "print(num/len(h_bw[i].dm))"
   ]
  },
  {
   "cell_type": "code",
   "execution_count": 71,
   "id": "e89f04bd",
   "metadata": {},
   "outputs": [
    {
     "name": "stdout",
     "output_type": "stream",
     "text": [
      "0.8969959720036145\n",
      "0.8962381872752837\n"
     ]
    }
   ],
   "source": [
    "i = 7\n",
    "shared = np.where(np.isin(SB.dm['iord'],h[8].dm['iord']))\n",
    "share_bw = np.where(np.isin(s.dm['iord'],h_bw[6].dm['iord']))\n",
    "match2 = np.in1d(share_bw[0], shared[0])\n",
    "num = op.countOf(match2,True)\n",
    "print(num/len(h[8].dm))\n",
    "print(num/len(h_bw[6].dm))"
   ]
  },
  {
   "cell_type": "code",
   "execution_count": 72,
   "id": "7955e74b",
   "metadata": {},
   "outputs": [
    {
     "name": "stdout",
     "output_type": "stream",
     "text": [
      "0.0001289315072454687\n",
      "0.00012942901242034673\n"
     ]
    }
   ],
   "source": [
    "i = 12\n",
    "shared = np.where(np.isin(SB.dm['iord'],h[i].dm['iord']))\n",
    "share_bw = np.where(np.isin(s.dm['iord'],h_bw[i].dm['iord']))\n",
    "match2 = np.in1d(share_bw[0], shared[0])\n",
    "num = op.countOf(match2,True)\n",
    "print(num/len(h[i].dm))\n",
    "print(num/len(h_bw[i].dm))"
   ]
  },
  {
   "cell_type": "code",
   "execution_count": 73,
   "id": "f7b481e6",
   "metadata": {},
   "outputs": [
    {
     "name": "stdout",
     "output_type": "stream",
     "text": [
      "0.9546931234568599\n",
      "0.9463891658172123\n"
     ]
    }
   ],
   "source": [
    "i = 14\n",
    "shared = np.where(np.isin(SB.dm['iord'],h[i].dm['iord']))\n",
    "share_bw = np.where(np.isin(s.dm['iord'],h_bw[i].dm['iord']))\n",
    "match2 = np.in1d(share_bw[0], shared[0])\n",
    "num = op.countOf(match2,True)\n",
    "print(num/len(h[i].dm))\n",
    "print(num/len(h_bw[i].dm))"
   ]
  },
  {
   "cell_type": "code",
   "execution_count": 6,
   "id": "763dcb9c",
   "metadata": {},
   "outputs": [
    {
     "name": "stdout",
     "output_type": "stream",
     "text": [
      "0.0\n",
      "0.0\n"
     ]
    }
   ],
   "source": [
    "i = 15\n",
    "shared = np.where(np.isin(SB.dm['iord'],h[23].dm['iord']))\n",
    "share_bw = np.where(np.isin(s.dm['iord'],h_bw[23].dm['iord']))\n",
    "match2 = np.in1d(share_bw[0], shared[0])\n",
    "num = op.countOf(match2,True)\n",
    "print(num/len(h[i].dm))\n",
    "print(num/len(h_bw[i].dm))"
   ]
  },
  {
   "cell_type": "code",
   "execution_count": 35,
   "id": "a132940c",
   "metadata": {},
   "outputs": [
    {
     "name": "stdout",
     "output_type": "stream",
     "text": [
      "0.0\n",
      "0.0\n"
     ]
    }
   ],
   "source": [
    "storm_sb = [1, 2, 3, 4, 5, 6, 7, 8, 10, 11, 12, 14, 16, 20, 22, 23, 24, 36, 76]\n",
    "storm_bw = [1,2,3,4,5,6,7,8,10,11,12,14,15,22,23,31,37,44,48,55,118]\n",
    "i = 76\n",
    "d = 37\n",
    "shared = np.where(np.isin(SB.dm['iord'],h[i].dm['iord']))\n",
    "share_bw = np.where(np.isin(s.dm['iord'],h_bw[d].dm['iord']))\n",
    "match2 = np.in1d(share_bw[0], shared[0])\n",
    "num = op.countOf(match2,True)\n",
    "print(num/len(h[i].dm))\n",
    "print(num/len(h_bw[d].dm))"
   ]
  },
  {
   "cell_type": "code",
   "execution_count": 36,
   "id": "a1d8ba95",
   "metadata": {},
   "outputs": [
    {
     "name": "stdout",
     "output_type": "stream",
     "text": [
      "0.0\n",
      "0.0\n"
     ]
    }
   ],
   "source": [
    "storm_sb = [1, 2, 3, 4, 5, 6, 7, 8, 10, 11, 12, 14, 16, 20, 22, 23, 24, 36, 48, 76]\n",
    "storm_bw = [1,2,3,4,5,6,7,8,10,11,12,14,15,22,23,37,44,48,55,118]\n",
    "i = 76\n",
    "d = 44\n",
    "shared = np.where(np.isin(SB.dm['iord'],h[i].dm['iord']))\n",
    "share_bw = np.where(np.isin(s.dm['iord'],h_bw[d].dm['iord']))\n",
    "match2 = np.in1d(share_bw[0], shared[0])\n",
    "num = op.countOf(match2,True)\n",
    "print(num/len(h[i].dm))\n",
    "print(num/len(h_bw[d].dm))"
   ]
  },
  {
   "cell_type": "code",
   "execution_count": 37,
   "id": "a050d0a3",
   "metadata": {},
   "outputs": [
    {
     "name": "stdout",
     "output_type": "stream",
     "text": [
      "0.0\n",
      "0.0\n"
     ]
    }
   ],
   "source": [
    "storm_sb = [1, 2, 3, 4, 5, 6, 7, 8, 10, 11, 12, 14, 16, 20, 22, 23, 24, 36, 48, 76]\n",
    "storm_bw = [1,2,3,4,5,6,7,8,10,11,12,14,15,22,23,37,44,48,55,118]\n",
    "i = 76\n",
    "d = 48\n",
    "shared = np.where(np.isin(SB.dm['iord'],h[i].dm['iord']))\n",
    "share_bw = np.where(np.isin(s.dm['iord'],h_bw[d].dm['iord']))\n",
    "match2 = np.in1d(share_bw[0], shared[0])\n",
    "num = op.countOf(match2,True)\n",
    "print(num/len(h[i].dm))\n",
    "print(num/len(h_bw[d].dm))"
   ]
  },
  {
   "cell_type": "code",
   "execution_count": 38,
   "id": "b212563c",
   "metadata": {},
   "outputs": [
    {
     "name": "stdout",
     "output_type": "stream",
     "text": [
      "0.0\n",
      "0.0\n"
     ]
    }
   ],
   "source": [
    "storm_sb = [1, 2, 3, 4, 5, 6, 7, 8, 10, 11, 12, 14, 16, 20, 22, 23, 24, 36, 48, 76]\n",
    "storm_bw = [1,2,3,4,5,6,7,8,10,11,12,14,15,22,23,31,37,44,48,55,118]\n",
    "i = 76\n",
    "d = 55\n",
    "shared = np.where(np.isin(SB.dm['iord'],h[i].dm['iord']))\n",
    "share_bw = np.where(np.isin(s.dm['iord'],h_bw[d].dm['iord']))\n",
    "match2 = np.in1d(share_bw[0], shared[0])\n",
    "num = op.countOf(match2,True)\n",
    "print(num/len(h[i].dm))\n",
    "print(num/len(h_bw[d].dm))"
   ]
  },
  {
   "cell_type": "code",
   "execution_count": 39,
   "id": "643c7cb1",
   "metadata": {},
   "outputs": [
    {
     "name": "stdout",
     "output_type": "stream",
     "text": [
      "0.0\n",
      "0.0\n"
     ]
    }
   ],
   "source": [
    "storm_sb = [1, 2, 3, 4, 5, 6, 7, 8, 10, 11, 12, 14, 16, 20, 22, 23, 24, 36, 48, 76]\n",
    "storm_bw = [1,2,3,4,5,6,7,8,10,11,12,14,15,22,23,31,37,44,48,55,118]\n",
    "i = 76\n",
    "d = 118\n",
    "shared = np.where(np.isin(SB.dm['iord'],h[i].dm['iord']))\n",
    "share_bw = np.where(np.isin(s.dm['iord'],h_bw[d].dm['iord']))\n",
    "match2 = np.in1d(share_bw[0], shared[0])\n",
    "num = op.countOf(match2,True)\n",
    "print(num/len(h[i].dm))\n",
    "print(num/len(h_bw[d].dm))"
   ]
  },
  {
   "cell_type": "code",
   "execution_count": 7,
   "id": "bbac5de1",
   "metadata": {},
   "outputs": [
    {
     "name": "stdout",
     "output_type": "stream",
     "text": [
      "Halo 20\n",
      "0.0\n",
      "0.0\n",
      "Halo 22\n",
      "0.0\n",
      "0.0\n",
      "Halo 36\n",
      "0.0\n",
      "0.0\n",
      "Halo 76\n",
      "0.0\n",
      "0.0\n"
     ]
    }
   ],
   "source": [
    "lit_sb = [20, 22, 36, 76]\n",
    "lit_bw = [37,48,55,118]\n",
    "ID = 31\n",
    "share_bw = np.where(np.isin(s.dm['iord'],h_bw[ID].dm['iord']))\n",
    "for i in lit_sb:\n",
    "    shared = np.where(np.isin(SB.dm['iord'],h[i].dm['iord']))\n",
    "    match2 = np.in1d(share_bw[0], shared[0])\n",
    "    num = op.countOf(match2,True)\n",
    "    print(\"Halo\",i)\n",
    "    print(num/len(h[i].dm))\n",
    "    print(num/len(h_bw[ID].dm))"
   ]
  },
  {
   "cell_type": "code",
   "execution_count": null,
   "id": "b71ba7bd",
   "metadata": {},
   "outputs": [],
   "source": []
  }
 ],
 "metadata": {
  "kernelspec": {
   "display_name": "Python 3",
   "language": "python",
   "name": "python3"
  },
  "language_info": {
   "codemirror_mode": {
    "name": "ipython",
    "version": 3
   },
   "file_extension": ".py",
   "mimetype": "text/x-python",
   "name": "python",
   "nbconvert_exporter": "python",
   "pygments_lexer": "ipython3",
   "version": "3.8.8"
  }
 },
 "nbformat": 4,
 "nbformat_minor": 5
}
